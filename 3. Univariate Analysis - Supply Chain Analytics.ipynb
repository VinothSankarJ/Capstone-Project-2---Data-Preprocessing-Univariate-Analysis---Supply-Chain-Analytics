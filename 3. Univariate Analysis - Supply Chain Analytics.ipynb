{
 "cells": [
  {
   "cell_type": "code",
   "execution_count": 1,
   "id": "e58f215d",
   "metadata": {},
   "outputs": [],
   "source": [
    "import pandas as pd\n",
    "import numpy as np\n"
   ]
  },
  {
   "cell_type": "code",
   "execution_count": 2,
   "id": "b72d15bc",
   "metadata": {},
   "outputs": [],
   "source": [
    "# Load the preprocessed dataset\n",
    "dataset = pd.read_csv('Processed_Data-1.csv')"
   ]
  },
  {
   "cell_type": "code",
   "execution_count": 3,
   "id": "a0b693e5",
   "metadata": {},
   "outputs": [
    {
     "name": "stdout",
     "output_type": "stream",
     "text": [
      "Dataset Information:\n",
      "<class 'pandas.core.frame.DataFrame'>\n",
      "RangeIndex: 25000 entries, 0 to 24999\n",
      "Data columns (total 2 columns):\n",
      " #   Column          Non-Null Count  Dtype \n",
      "---  ------          --------------  ----- \n",
      " 0   0               25000 non-null  object\n",
      " 1   product_wg_ton  25000 non-null  int64 \n",
      "dtypes: int64(1), object(1)\n",
      "memory usage: 390.8+ KB\n"
     ]
    }
   ],
   "source": [
    "# Display basic information about the dataset\n",
    "print(\"Dataset Information:\")\n",
    "dataset.info()"
   ]
  },
  {
   "cell_type": "code",
   "execution_count": 4,
   "id": "deef155c",
   "metadata": {},
   "outputs": [
    {
     "name": "stdout",
     "output_type": "stream",
     "text": [
      "\n",
      "Column Names:\n",
      "Index(['0', 'product_wg_ton'], dtype='object')\n"
     ]
    }
   ],
   "source": [
    "# Display the column names\n",
    "print(\"\\nColumn Names:\")\n",
    "print(dataset.columns)"
   ]
  },
  {
   "cell_type": "code",
   "execution_count": 5,
   "id": "d58c53cb",
   "metadata": {},
   "outputs": [],
   "source": [
    "# Identify quantitative and qualitative columns\n",
    "def identify_column_types(dataset):\n",
    "    quan = []\n",
    "    qual = []\n",
    "    for columnName in dataset.columns:\n",
    "        if dataset[columnName].dtype == 'O':\n",
    "            qual.append(columnName)\n",
    "        else:\n",
    "            quan.append(columnName)\n",
    "    return quan, qual"
   ]
  },
  {
   "cell_type": "code",
   "execution_count": 6,
   "id": "01feed4f",
   "metadata": {},
   "outputs": [],
   "source": [
    "# Identify column types\n",
    "quan, qual = identify_column_types(dataset)\n"
   ]
  },
  {
   "cell_type": "code",
   "execution_count": 7,
   "id": "2d20c01c",
   "metadata": {},
   "outputs": [
    {
     "name": "stdout",
     "output_type": "stream",
     "text": [
      "\n",
      "Quantitative Columns:\n",
      "['product_wg_ton']\n",
      "\n",
      "Qualitative Columns:\n",
      "['0']\n"
     ]
    }
   ],
   "source": [
    "# Display quantitative and qualitative columns\n",
    "print(\"\\nQuantitative Columns:\")\n",
    "print(quan)\n",
    "\n",
    "print(\"\\nQualitative Columns:\")\n",
    "print(qual)"
   ]
  },
  {
   "cell_type": "code",
   "execution_count": 8,
   "id": "0880e1bf",
   "metadata": {},
   "outputs": [],
   "source": [
    "# Calculate descriptive statistics for quantitative columns\n",
    "def calculate_descriptive_statistics(dataset, quan):\n",
    "    descriptive = pd.DataFrame(index=[\"Mean\", \"Median\", \"Mode\", \"Q1:25%\", \"Q2:50%\", \"Q3:75%\", \"99%\", \"Q4:100%\", \"IQR\", \"1.5rule\", \"Lesser\", \"Greater\", \"Min\", \"Max\", \"kurtosis\", \"skew\", \"Var\", \"Std\"], columns=quan)\n",
    "    for columnName in quan:\n",
    "        descriptive[columnName][\"Mean\"] = dataset[columnName].mean()\n",
    "        descriptive[columnName][\"Median\"] = dataset[columnName].median()\n",
    "        descriptive[columnName][\"Mode\"] = dataset[columnName].mode()[0]\n",
    "        descriptive[columnName][\"Q1:25%\"] = dataset.describe()[columnName][\"25%\"]\n",
    "        descriptive[columnName][\"Q2:50%\"] = dataset.describe()[columnName][\"50%\"]\n",
    "        descriptive[columnName][\"Q3:75%\"] = dataset.describe()[columnName][\"75%\"]\n",
    "        descriptive[columnName][\"99%\"] = np.percentile(dataset[columnName], 99)\n",
    "        descriptive[columnName][\"Q4:100%\"] = dataset.describe()[columnName][\"max\"]\n",
    "        descriptive[columnName][\"IQR\"] = descriptive[columnName][\"Q3:75%\"] - descriptive[columnName][\"Q1:25%\"]\n",
    "        descriptive[columnName][\"1.5rule\"] = 1.5 * descriptive[columnName][\"IQR\"]\n",
    "        descriptive[columnName][\"Lesser\"] = descriptive[columnName][\"Q1:25%\"] - descriptive[columnName][\"1.5rule\"]\n",
    "        descriptive[columnName][\"Greater\"] = descriptive[columnName][\"Q3:75%\"] + descriptive[columnName][\"1.5rule\"]\n",
    "        descriptive[columnName][\"Min\"] = dataset[columnName].min()\n",
    "        descriptive[columnName][\"Max\"] = dataset[columnName].max()\n",
    "        descriptive[columnName][\"kurtosis\"] = dataset[columnName].kurtosis()\n",
    "        descriptive[columnName][\"skew\"] = dataset[columnName].skew()\n",
    "        descriptive[columnName][\"Var\"] = dataset[columnName].var()\n",
    "        descriptive[columnName][\"Std\"] = dataset[columnName].std()\n",
    "    return descriptive"
   ]
  },
  {
   "cell_type": "code",
   "execution_count": 10,
   "id": "f0fb7f0b",
   "metadata": {},
   "outputs": [],
   "source": [
    "# Calculate descriptive statistics\n",
    "descriptive_stats = calculate_descriptive_statistics(dataset, quan)\n"
   ]
  },
  {
   "cell_type": "code",
   "execution_count": 11,
   "id": "95aa3ef2",
   "metadata": {},
   "outputs": [
    {
     "name": "stdout",
     "output_type": "stream",
     "text": [
      "\n",
      "Descriptive Statistics:\n",
      "            product_wg_ton\n",
      "Mean           22102.63292\n",
      "Median             22101.0\n",
      "Mode                  5146\n",
      "Q1:25%             13059.0\n",
      "Q2:50%             22101.0\n",
      "Q3:75%             30103.0\n",
      "99%               51075.02\n",
      "Q4:100%            55151.0\n",
      "IQR                17044.0\n",
      "1.5rule            25566.0\n",
      "Lesser            -12507.0\n",
      "Greater            55669.0\n",
      "Min                   2065\n",
      "Max                  55151\n",
      "kurtosis         -0.502022\n",
      "skew              0.331631\n",
      "Var       134739977.918249\n",
      "Std           11607.755077\n"
     ]
    }
   ],
   "source": [
    "# Display the descriptive statistics\n",
    "print(\"\\nDescriptive Statistics:\")\n",
    "print(descriptive_stats)"
   ]
  },
  {
   "cell_type": "code",
   "execution_count": 12,
   "id": "75e28d9b",
   "metadata": {},
   "outputs": [],
   "source": [
    "# Create a frequency table for a specified column\n",
    "def create_frequency_table(columnName, dataset):\n",
    "    freqTable = pd.DataFrame(columns=[\"Unique_Values\", \"Frequency\", \"Relative Frequency\", \"Cusum\"])\n",
    "    freqTable[\"Unique_Values\"] = dataset[columnName].value_counts().index\n",
    "    freqTable[\"Frequency\"] = dataset[columnName].value_counts().values\n",
    "    freqTable[\"Relative Frequency\"] = (freqTable[\"Frequency\"] / len(dataset))\n",
    "    freqTable[\"Cusum\"] = freqTable[\"Relative Frequency\"].cumsum()\n",
    "    return freqTable"
   ]
  },
  {
   "cell_type": "code",
   "execution_count": 13,
   "id": "e4875d51",
   "metadata": {},
   "outputs": [
    {
     "name": "stdout",
     "output_type": "stream",
     "text": [
      "\n",
      "Frequency Table for '0':\n",
      "                                           Unique_Values  Frequency  \\\n",
      "0        (0, 0)\\t-0.4178074753217756\\n  (0, 1)\\t0.188...          1   \n",
      "1        (0, 0)\\t-0.4178074753217756\\n  (0, 1)\\t0.188...          1   \n",
      "2        (0, 0)\\t-0.034159973557124454\\n  (0, 1)\\t-0....          1   \n",
      "3        (0, 0)\\t1.50043003350148\\n  (0, 1)\\t-0.64504...          1   \n",
      "4        (0, 0)\\t0.7331350299721778\\n  (0, 1)\\t-0.645...          1   \n",
      "...                                                  ...        ...   \n",
      "24995    (0, 0)\\t-1.568749980615729\\n  (0, 1)\\t0.1886...          1   \n",
      "24996    (0, 0)\\t1.116782531736829\\n  (0, 1)\\t-0.6450...          1   \n",
      "24997    (0, 0)\\t-1.568749980615729\\n  (0, 1)\\t-0.645...          1   \n",
      "24998    (0, 0)\\t-1.1851024788510778\\n  (0, 1)\\t-0.64...          1   \n",
      "24999    (0, 0)\\t1.50043003350148\\n  (0, 1)\\t1.022423...          1   \n",
      "\n",
      "       Relative Frequency    Cusum  \n",
      "0                 0.00004  0.00004  \n",
      "1                 0.00004  0.00008  \n",
      "2                 0.00004  0.00012  \n",
      "3                 0.00004  0.00016  \n",
      "4                 0.00004  0.00020  \n",
      "...                   ...      ...  \n",
      "24995             0.00004  0.99984  \n",
      "24996             0.00004  0.99988  \n",
      "24997             0.00004  0.99992  \n",
      "24998             0.00004  0.99996  \n",
      "24999             0.00004  1.00000  \n",
      "\n",
      "[25000 rows x 4 columns]\n"
     ]
    }
   ],
   "source": [
    "# Example frequency table for a qualitative column\n",
    "if qual:\n",
    "    example_freq_table = create_frequency_table(qual[0], dataset)\n",
    "    print(f\"\\nFrequency Table for '{qual[0]}':\")\n",
    "    print(example_freq_table)\n"
   ]
  },
  {
   "cell_type": "code",
   "execution_count": 14,
   "id": "7ebf0a18",
   "metadata": {},
   "outputs": [
    {
     "name": "stdout",
     "output_type": "stream",
     "text": [
      "\n",
      "Skewness of 'product_wg_ton': 0.33163104430999646\n",
      "Kurtosis of 'product_wg_ton': -0.5020221997549963\n"
     ]
    }
   ],
   "source": [
    "# Example skewness and kurtosis for a quantitative column\n",
    "if quan:\n",
    "    example_column = quan[0]\n",
    "    skewness = dataset[example_column].skew()\n",
    "    kurtosis = dataset[example_column].kurtosis()\n",
    "    print(f\"\\nSkewness of '{example_column}': {skewness}\")\n",
    "    print(f\"Kurtosis of '{example_column}': {kurtosis}\")"
   ]
  },
  {
   "cell_type": "code",
   "execution_count": null,
   "id": "8ebbe1f2",
   "metadata": {},
   "outputs": [],
   "source": []
  }
 ],
 "metadata": {
  "kernelspec": {
   "display_name": "Python 3 (ipykernel)",
   "language": "python",
   "name": "python3"
  },
  "language_info": {
   "codemirror_mode": {
    "name": "ipython",
    "version": 3
   },
   "file_extension": ".py",
   "mimetype": "text/x-python",
   "name": "python",
   "nbconvert_exporter": "python",
   "pygments_lexer": "ipython3",
   "version": "3.7.6"
  }
 },
 "nbformat": 4,
 "nbformat_minor": 5
}
